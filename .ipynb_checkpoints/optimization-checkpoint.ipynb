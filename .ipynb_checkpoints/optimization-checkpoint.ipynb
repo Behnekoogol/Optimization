{
 "cells": [
  {
   "cell_type": "markdown",
   "id": "5656fece-4f1f-413a-852d-c6a6ce5c396c",
   "metadata": {},
   "source": [
    "# Optimization Using Newton's Method"
   ]
  },
  {
   "cell_type": "markdown",
   "id": "eefe7927-7bfc-46f6-9830-27ef951d755f",
   "metadata": {},
   "source": [
    "# Table of Contents\n",
    "\n",
    "- [ 1 - Function in One Variable](#1)\n",
    "- [ 2 - Function in Two Variables](#2)"
   ]
  },
  {
   "cell_type": "markdown",
   "id": "56d14bf9-ba8d-43f3-9f4e-5a7a99ceb48a",
   "metadata": {},
   "source": [
    "## Packeges"
   ]
  },
  {
   "cell_type": "code",
   "execution_count": 2,
   "id": "b3e8fbb9-f436-424c-9043-5ff2848d0e4f",
   "metadata": {},
   "outputs": [],
   "source": [
    "import numpy as np\n",
    "import matplotlib.pyplot as plt"
   ]
  },
  {
   "cell_type": "markdown",
   "id": "f7c7962b-f9c7-4f7c-b04b-83ad5850967a",
   "metadata": {},
   "source": [
    "## Function in One variable\n",
    "\n",
    "- Let's optimize function $f\\left(x\\right)=e^x - \\log(x)$ (defined for $x>0$) using Newton's method."
   ]
  },
  {
   "cell_type": "code",
   "execution_count": 5,
   "id": "096baea2-b687-480d-9099-bb5d14f43528",
   "metadata": {},
   "outputs": [],
   "source": [
    "def f_example_1(x):\n",
    "    return np.exp(x) - np.log(x)\n",
    "\n",
    "def dfdx_example_1(x): \n",
    "    return np.exp(x) - 1/x\n",
    "\n",
    "def d2fd2x_example_1(x):\n",
    "    return np.exp(x) + 1/(x**2)"
   ]
  },
  {
   "cell_type": "code",
   "execution_count": 19,
   "id": "889d5ef1-2b9c-4b06-b54d-8d203791d7ff",
   "metadata": {},
   "outputs": [
    {
     "name": "stdout",
     "output_type": "stream",
     "text": [
      "f(2) = 6.695908918370705\n",
      "f'(2) = 6.88905609893065\n",
      "f''(2) = 7.63905609893065\n"
     ]
    }
   ],
   "source": [
    "print(f\"f(2) = {f_example_1(2)}\")\n",
    "print(f\"f'(2) = {dfdx_example_1(2)}\")\n",
    "print(f\"f''(2) = {d2fd2x_example_1(2)}\")"
   ]
  },
  {
   "cell_type": "markdown",
   "id": "b9a51515-758d-40df-8814-8bfbeeea63d0",
   "metadata": {},
   "source": [
    "### Newton's Method"
   ]
  },
  {
   "cell_type": "code",
   "execution_count": 20,
   "id": "010a616b-786b-4fd3-a0ab-5b67d65e0949",
   "metadata": {},
   "outputs": [],
   "source": [
    "def newtons_method(x, dfdx, d2fd2x, num_iteration=100):\n",
    "    for iteration in range(num_iteration):\n",
    "        x = x - dfdx(x)/d2fd2x(x)\n",
    "        print(x)\n",
    "    return x"
   ]
  },
  {
   "cell_type": "code",
   "execution_count": 25,
   "id": "d3b7219e-4aea-4750-8089-6098708bdf31",
   "metadata": {},
   "outputs": [
    {
     "name": "stdout",
     "output_type": "stream",
     "text": [
      "1.098179669096158\n",
      "0.5526822326177031\n",
      "0.5669388602197535\n",
      "0.5671432509315752\n",
      "0.5671432904097824\n",
      "0.5671432904097838\n",
      "0.5671432904097838\n",
      "0.5671432904097838\n",
      "0.5671432904097838\n",
      "0.5671432904097838\n",
      "0.5671432904097838\n",
      "0.5671432904097838\n",
      "0.5671432904097838\n",
      "0.5671432904097838\n",
      "0.5671432904097838\n",
      "0.5671432904097838\n",
      "0.5671432904097838\n",
      "0.5671432904097838\n",
      "0.5671432904097838\n",
      "0.5671432904097838\n",
      "0.5671432904097838\n",
      "0.5671432904097838\n",
      "0.5671432904097838\n",
      "0.5671432904097838\n",
      "0.5671432904097838\n",
      "newtons method result : x_min = 0.5671432904097838\n"
     ]
    }
   ],
   "source": [
    "x_initial = 2\n",
    "newtons_example = newtons_method(x_initial, dfdx_example_1, d2fd2x_example_1, num_iteration=25)\n",
    "print(f\"newtons method result : x_min = {newtons_example}\")"
   ]
  },
  {
   "cell_type": "markdown",
   "id": "acf3581d-5fd6-4495-a35f-f2743266ba25",
   "metadata": {},
   "source": [
    "You can see that starting from the initial point $x_0 = 1.6$ Newton's method converges after $6$ iterations."
   ]
  },
  {
   "cell_type": "markdown",
   "id": "ccf599bb-422f-463b-b2a6-b734041ef231",
   "metadata": {},
   "source": [
    "### let's compare this with with Gradient descent method"
   ]
  },
  {
   "cell_type": "markdown",
   "id": "cd2af180-4aed-42c7-9b2c-61b2e415b4e6",
   "metadata": {},
   "source": [
    "### Gradient descent Method"
   ]
  },
  {
   "cell_type": "code",
   "execution_count": 30,
   "id": "a4c5702b-9b7e-4843-a27a-b5f5efb9025b",
   "metadata": {},
   "outputs": [],
   "source": [
    "def gradient_descent(x, dfdx, num_iteration=100, learning_rate=0.1):\n",
    "    for iteration in range(num_iteration):\n",
    "        x = x - learning_rate * dfdx(x)\n",
    "        print(x)\n",
    "    return x"
   ]
  },
  {
   "cell_type": "code",
   "execution_count": 34,
   "id": "86a7ec70-6098-492d-84ef-492d1caf1d49",
   "metadata": {},
   "outputs": [
    {
     "name": "stdout",
     "output_type": "stream",
     "text": [
      "1.311094390106935\n",
      "1.0163433560411375\n",
      "0.8384280318695868\n",
      "0.7264259949964103\n",
      "0.6573185172692837\n",
      "0.6164906465564866\n",
      "0.5934575251990601\n",
      "0.580937926487038\n",
      "0.5743019179330655\n",
      "0.5708373205048533\n",
      "0.5690437508722686\n",
      "0.5681194674349391\n",
      "0.567644294086666\n",
      "0.5674003115388165\n",
      "0.5672751166518569\n",
      "0.5672108965574768\n",
      "0.567177959743891\n",
      "0.5671610687814754\n",
      "0.5671524069884393\n",
      "0.567147965267642\n",
      "0.5671456876039223\n",
      "0.5671445196510079\n",
      "0.5671439207435476\n",
      "0.5671436136339261\n",
      "0.5671434561534316\n",
      "Gradient Descent result : x_min = 0.5671434561534316\n"
     ]
    }
   ],
   "source": [
    "x_initial = 2\n",
    "gradient_descent_example = gradient_descent(x_initial, dfdx_example_1, num_iteration=25, learning_rate=0.1)\n",
    "print(f\"Gradient Descent result : x_min = {gradient_descent_example}\")"
   ]
  },
  {
   "cell_type": "markdown",
   "id": "ed20bb6f-a1ff-4dcb-8a04-88f0dff14166",
   "metadata": {},
   "source": [
    "in Gradient descent the convergence would appear after almost $20$ iterations"
   ]
  },
  {
   "cell_type": "markdown",
   "id": "8433bbf2-59cc-4b43-b0ae-df748c28e564",
   "metadata": {},
   "source": [
    "## Function in Two variable\n"
   ]
  },
  {
   "cell_type": "markdown",
   "id": "31604b01-e112-47c3-82a1-86aab2a3e274",
   "metadata": {},
   "source": [
    "Define the function $f(x, y)$ like in the videos, its gradient and Hessian:\n",
    "\n",
    "\\begin{align}\n",
    "f\\left(x, y\\right) &= x^4 + 0.8 y^4 + 4x^2 + 2y^2 - xy - 0.2x^2y,\\\\\n",
    "\\nabla f\\left(x, y\\right) &= \\begin{bmatrix}4x^3 + 8x - y - 0.4xy \\\\ 3.2y^3 + 4y - x - 0.2x^2\\end{bmatrix}, \\\\\n",
    "H\\left(x, y\\right) &= \\begin{bmatrix}12x^2 + 8 - 0.4y && -1 - 0.4x \\\\ -1 - 0.4x && 9.6y^2 + 4\\end{bmatrix}.\n",
    "\\end{align}"
   ]
  },
  {
   "cell_type": "code",
   "execution_count": 36,
   "id": "6dcd20d3-9645-4caf-89ef-eecd945e59da",
   "metadata": {},
   "outputs": [],
   "source": [
    "def f_example_2(x, y):\n",
    "    return x**4 + 0.8*y**4 + 4*x**2 + 2*y**2 - x*y -0.2*x**2*y\n",
    "\n",
    "def grad_f_example_2(x, y):\n",
    "    return np.array([[4*x**3 + 8*x - y - 0.4*x*y],\n",
    "                     [3.2*y**3 +4*y - x - 0.2*x**2]])\n",
    "\n",
    "def hessian_f_example_2(x, y):\n",
    "    hessian_f = np.array([[12*x**2 + 8 - 0.4*y, -1 - 0.4*x],\n",
    "                         [-1 - 0.4*x, 9.6*y**2 + 4]])\n",
    "    return hessian_f"
   ]
  },
  {
   "cell_type": "markdown",
   "id": "3930dd56-f5c1-4540-b019-bcc2814600a3",
   "metadata": {},
   "source": [
    "### Newton's Method for Two variable"
   ]
  },
  {
   "cell_type": "code",
   "execution_count": null,
   "id": "3fb4a782-3578-4eb8-8d61-df19c2b714ba",
   "metadata": {},
   "outputs": [],
   "source": [
    "newtons_method_2(x_y, grad_f, hessian_f, num_iteration=100):\n",
    "for iteration in range(num_iteration):\n",
    "    x_y = x_y - np.li"
   ]
  }
 ],
 "metadata": {
  "kernelspec": {
   "display_name": "Python 3 (ipykernel)",
   "language": "python",
   "name": "python3"
  },
  "language_info": {
   "codemirror_mode": {
    "name": "ipython",
    "version": 3
   },
   "file_extension": ".py",
   "mimetype": "text/x-python",
   "name": "python",
   "nbconvert_exporter": "python",
   "pygments_lexer": "ipython3",
   "version": "3.10.0"
  }
 },
 "nbformat": 4,
 "nbformat_minor": 5
}
