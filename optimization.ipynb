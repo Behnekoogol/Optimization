{
 "cells": [
  {
   "cell_type": "markdown",
   "id": "5656fece-4f1f-413a-852d-c6a6ce5c396c",
   "metadata": {},
   "source": [
    "# Optimization Using Newton's Method"
   ]
  },
  {
   "cell_type": "markdown",
   "id": "eefe7927-7bfc-46f6-9830-27ef951d755f",
   "metadata": {},
   "source": [
    "# Table of Contents\n",
    "\n",
    "- [ 1 - Function in One Variable](#1)\n",
    "- [ 2 - Function in Two Variables](#2)"
   ]
  },
  {
   "cell_type": "markdown",
   "id": "56d14bf9-ba8d-43f3-9f4e-5a7a99ceb48a",
   "metadata": {},
   "source": [
    "## Packeges"
   ]
  },
  {
   "cell_type": "code",
   "execution_count": 2,
   "id": "b3e8fbb9-f436-424c-9043-5ff2848d0e4f",
   "metadata": {},
   "outputs": [],
   "source": [
    "import numpy as np\n",
    "import matplotlib.pyplot as plt"
   ]
  },
  {
   "cell_type": "code",
   "execution_count": null,
   "id": "f9099e40-4f9e-403f-9f42-a32ab3676ad2",
   "metadata": {},
   "outputs": [],
   "source": []
  }
 ],
 "metadata": {
  "kernelspec": {
   "display_name": "Python 3 (ipykernel)",
   "language": "python",
   "name": "python3"
  },
  "language_info": {
   "codemirror_mode": {
    "name": "ipython",
    "version": 3
   },
   "file_extension": ".py",
   "mimetype": "text/x-python",
   "name": "python",
   "nbconvert_exporter": "python",
   "pygments_lexer": "ipython3",
   "version": "3.10.0"
  }
 },
 "nbformat": 4,
 "nbformat_minor": 5
}
